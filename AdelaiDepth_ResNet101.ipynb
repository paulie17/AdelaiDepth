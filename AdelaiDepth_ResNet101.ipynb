{
  "cells": [
    {
      "attachments": {},
      "cell_type": "markdown",
      "metadata": {
        "id": "al6R1WJ8SAP-"
      },
      "source": [
        "Colab demo notebook to test Monocular Depth Estimation and 3D Scene recovery from Adelai Depth.\n",
        "\n",
        "The notebook in this fork adds the test of 3D scene recovery and allows you to download the computed point cloud.\n",
        "\n",
        "---\n",
        "This is the AdelaiDepth with ResNet101 pretrained model demo colab notebook, here you can try AdelaiDepth. To perfect work run cells sequentially. If you want to upload some new images, run from 2nd cell.\n",
        "Here the main branch -\n",
        "https://github.com/aim-uofa/AdelaiDepth"
      ]
    },
    {
      "cell_type": "code",
      "execution_count": 1,
      "metadata": {
        "cellView": "form",
        "id": "IgC0hSmH-iq-",
        "vscode": {
          "languageId": "python"
        }
      },
      "outputs": [],
      "source": [
        "#@title Download libraries and clone git project(run only for first time)\n",
        "%cd /content/\n",
        "!git clone https://github.com/paulie17/AdelaiDepth.git\n",
        "!wget -O /content/AdelaiDepth/res101.pth https://cloudstor.aarnet.edu.au/plus/s/lTIJF4vrvHCAI31/download\n",
        "import sys\n",
        "import os\n",
        "#sys.path.append('/usr/local/lib/python3.7/site-packages')\n",
        "sys.path.append('/content/AdelaiDepth/LeReS')\n",
        "#os.environ[\"PYTHONPATH\"] += (\":/usr/local/lib/python3.7/site-package\")\n",
        "os.environ[\"PYTHONPATH\"] += (\":/content/AdelaiDepth/LeReS\")\n",
        "!echo \"$PYTHONPATH\"\n",
        "!pip3 install ipykernel matplotlib opencv-python\n",
        "!pip3 install torch==1.6.0 torchvision==0.7.0\n",
        "!pip install --upgrade git+https://github.com/mit-han-lab/torchsparse.git@v1.2.0\n",
        "#cudatoolkit==10.2\n",
        "from IPython.display import clear_output\n",
        "clear_output()\n"
      ]
    },
    {
      "cell_type": "code",
      "execution_count": null,
      "metadata": {
        "cellView": "form",
        "id": "XXf26xd_Scfj",
        "vscode": {
          "languageId": "python"
        }
      },
      "outputs": [],
      "source": [
        "#@title Clean output directory\n",
        "%%shell\n",
        "if [ -e /content/AdelaiDepth/LeReS/test_images ]; then\n",
        "  if [ -n \"`ls -A /content/AdelaiDepth/LeReS/test_images/`\" ]; then\n",
        "    rm -rf /content/AdelaiDepth/LeReS/test_images/*\n",
        "    echo \"Cleaned\"\n",
        "  fi\n",
        "elif [ ! -e /content/AdelaiDepth/LeReS/test_images ]; then\n",
        "  mkdir /content/AdelaiDepth/LeReS/test_images\n",
        "  mkdir /content/AdelaiDepth/LeReS/test_images/outputs\n",
        "  echo \"Created directories and cleaned\"\n",
        "fi"
      ]
    },
    {
      "cell_type": "code",
      "execution_count": null,
      "metadata": {
        "cellView": "form",
        "id": "EqELF486_s98",
        "vscode": {
          "languageId": "python"
        }
      },
      "outputs": [],
      "source": [
        "#@title Upload images(png, jpg works fine, also you can upload multiple images)\n",
        "%cd /content/AdelaiDepth/LeReS/test_images/\n",
        "from google.colab import files\n",
        "image = files.upload()\n",
        "#for n in image.keys():\n",
        "#  print(\"{name} succesfully uploaded!\".format(name = n))"
      ]
    },
    {
      "cell_type": "code",
      "execution_count": null,
      "metadata": {
        "cellView": "form",
        "id": "I57K7VLfQwfC",
        "vscode": {
          "languageId": "python"
        }
      },
      "outputs": [],
      "source": [
        "#@title Run network\n",
        "!echo \"$PYTHONPATH\"\n",
        "%cd /content/AdelaiDepth/LeRes\n",
        "!python -m tools.test_depth --load_ckpt res101.pth --backbone resnext101\n",
        "from IPython.display import clear_output\n",
        "clear_output()\n",
        "!echo \"Done!\""
      ]
    },
    {
      "cell_type": "code",
      "execution_count": null,
      "metadata": {
        "vscode": {
          "languageId": "python"
        }
      },
      "outputs": [],
      "source": [
        "#@title Run network\n",
        "!echo \"$PYTHONPATH\"\n",
        "%cd /content/AdelaiDepth/LeRes\n",
        "!python -m tools.test_shape --load_ckpt res101.pth --backbone resnext101\n",
        "from IPython.display import clear_output\n",
        "clear_output()\n",
        "!echo \"Done!\""
      ]
    },
    {
      "cell_type": "code",
      "execution_count": null,
      "metadata": {
        "cellView": "form",
        "id": "vy-oT9YKgMl3",
        "vscode": {
          "languageId": "python"
        }
      },
      "outputs": [],
      "source": [
        "#@title Download depth prediction results\n",
        "from google.colab import files\n",
        "%cd /content/AdelaiDepth/LeReS/test_images/\n",
        "!find outputs/ -name \"*-depth_raw.png\" | zip -r result.zip -@\n",
        "files.download(\"depth_result.zip\")"
      ]
    },
    {
      "cell_type": "code",
      "execution_count": null,
      "metadata": {
        "vscode": {
          "languageId": "python"
        }
      },
      "outputs": [],
      "source": [
        "#@title Download 3D scene recovery results\n",
        "from google.colab import files\n",
        "%cd /content/AdelaiDepth/LeReS/test_images/\n",
        "!find outputs/ -name \"*-pcd.ply\" | zip -r result.zip -@\n",
        "files.download(\"pcd_result.zip\")"
      ]
    },
    {
      "cell_type": "code",
      "execution_count": null,
      "metadata": {
        "cellView": "form",
        "id": "9ZDuKV3KvTm8",
        "vscode": {
          "languageId": "python"
        }
      },
      "outputs": [],
      "source": [
        "#@title Check videocard\n",
        "!nvidia-smi"
      ]
    }
  ],
  "metadata": {
    "accelerator": "GPU",
    "colab": {
      "collapsed_sections": [],
      "name": "AdelaiDepth ResNet101",
      "provenance": []
    },
    "kernelspec": {
      "display_name": "Python 3",
      "name": "python3"
    }
  },
  "nbformat": 4,
  "nbformat_minor": 0
}
